{
 "cells": [
  {
   "cell_type": "markdown",
   "metadata": {},
   "source": [
    "## Imports"
   ]
  },
  {
   "cell_type": "code",
   "execution_count": 1,
   "metadata": {},
   "outputs": [],
   "source": [
    "import data\n",
    "\n",
    "import numpy as np\n",
    "\n",
    "from tensorflow.keras import models\n",
    "from tensorflow.keras import layers\n",
    "from tensorflow.keras import utils\n",
    "\n",
    "from sklearn.model_selection import train_test_split\n",
    "from sklearn.preprocessing import StandardScaler\n",
    "\n",
    "import matplotlib.pyplot as plt"
   ]
  },
  {
   "cell_type": "code",
   "execution_count": 2,
   "metadata": {},
   "outputs": [],
   "source": [
    "doodle_map, X, y = data.auto_load(size=25000, categories=[\n",
    "    'soccer ball', 'The Great Wall of China', 'hamburger', 'moon', 'saxophone', 'bench', 'pizza', 'cactus', 'sun', 'shovel', 'The Mona Lisa', 'wristwatch', 'microphone', 'cow', 'cannon', 'yoga', 'drill', 'frog', 'snail', 'scorpion', 'campfire', 'sea turtle', 'paintbrush', 'strawberry', 'grapes', 'sword', 'roller coaster', 'pencil', 'carrot', 'train', 'toothpaste', 'broccoli', 'face', 'hockey stick', 'bracelet', 'marker', 'scissors', 'umbrella', 'envelope', 'wheel', 'garden hose', 'kangaroo', 'onion', 'submarine', 'hot tub', 'tennis racquet', 'palm tree', 'zebra', 'moustache', 'school bus', 'door', 'book', 'lollipop', 'sink', 'barn', 'nail', 'fork', 'bathtub', 'animal migration', 'watermelon', 'passport', 'mug', 'dumbbell', 'hot dog', 'beard', 'flamingo', 'bird', 'hand', 'firetruck', 'hourglass', 'whale', 'pig', 'clock', 'fish', 'ice cream', 'diamond', 'wine glass', 'mailbox', 'pool', 'popsicle', 'toaster', 'crown', 'pond', 'airplane', 'computer', 'megaphone', 'hot air balloon', 'flying saucer', 'ladder', 'ear', 'mushroom', 'piano', 'wine bottle', 'lobster', 'horse', 'pickup truck', 'peanut', 'blueberry', 'mermaid', 'purse'\n",
    "])"
   ]
  },
  {
   "cell_type": "code",
   "execution_count": 3,
   "metadata": {},
   "outputs": [
    {
     "data": {
      "text/plain": [
       "['airplane',\n",
       " 'animal migration',\n",
       " 'barn',\n",
       " 'bathtub',\n",
       " 'beard',\n",
       " 'bench',\n",
       " 'bird',\n",
       " 'blueberry',\n",
       " 'book',\n",
       " 'bracelet',\n",
       " 'broccoli',\n",
       " 'cactus',\n",
       " 'campfire',\n",
       " 'cannon',\n",
       " 'carrot',\n",
       " 'clock',\n",
       " 'computer',\n",
       " 'cow',\n",
       " 'crown',\n",
       " 'diamond',\n",
       " 'door',\n",
       " 'drill',\n",
       " 'dumbbell',\n",
       " 'ear',\n",
       " 'envelope',\n",
       " 'face',\n",
       " 'firetruck',\n",
       " 'fish',\n",
       " 'flamingo',\n",
       " 'flying saucer',\n",
       " 'fork',\n",
       " 'frog',\n",
       " 'garden hose',\n",
       " 'grapes',\n",
       " 'hamburger',\n",
       " 'hand',\n",
       " 'hockey stick',\n",
       " 'horse',\n",
       " 'hot air balloon',\n",
       " 'hot dog',\n",
       " 'hot tub',\n",
       " 'hourglass',\n",
       " 'ice cream',\n",
       " 'kangaroo',\n",
       " 'ladder',\n",
       " 'lobster',\n",
       " 'lollipop',\n",
       " 'mailbox',\n",
       " 'marker',\n",
       " 'megaphone',\n",
       " 'mermaid',\n",
       " 'microphone',\n",
       " 'moon',\n",
       " 'moustache',\n",
       " 'mug',\n",
       " 'mushroom',\n",
       " 'nail',\n",
       " 'onion',\n",
       " 'paintbrush',\n",
       " 'palm tree',\n",
       " 'passport',\n",
       " 'peanut',\n",
       " 'pencil',\n",
       " 'piano',\n",
       " 'pickup truck',\n",
       " 'pig',\n",
       " 'pizza',\n",
       " 'pond',\n",
       " 'pool',\n",
       " 'popsicle',\n",
       " 'purse',\n",
       " 'roller coaster',\n",
       " 'saxophone',\n",
       " 'school bus',\n",
       " 'scissors',\n",
       " 'scorpion',\n",
       " 'sea turtle',\n",
       " 'shovel',\n",
       " 'sink',\n",
       " 'snail',\n",
       " 'soccer ball',\n",
       " 'strawberry',\n",
       " 'submarine',\n",
       " 'sun',\n",
       " 'sword',\n",
       " 'tennis racquet',\n",
       " 'The Great Wall of China',\n",
       " 'The Mona Lisa',\n",
       " 'toaster',\n",
       " 'toothpaste',\n",
       " 'train',\n",
       " 'umbrella',\n",
       " 'watermelon',\n",
       " 'whale',\n",
       " 'wheel',\n",
       " 'wine bottle',\n",
       " 'wine glass',\n",
       " 'wristwatch',\n",
       " 'yoga',\n",
       " 'zebra']"
      ]
     },
     "execution_count": 3,
     "metadata": {},
     "output_type": "execute_result"
    }
   ],
   "source": [
    "doodle_map"
   ]
  },
  {
   "cell_type": "markdown",
   "metadata": {},
   "source": [
    "## Feature Scaling"
   ]
  },
  {
   "cell_type": "code",
   "execution_count": 4,
   "metadata": {},
   "outputs": [],
   "source": [
    "scaler = StandardScaler()\n",
    "#X = scaler.fit_transform(X)"
   ]
  },
  {
   "cell_type": "markdown",
   "metadata": {},
   "source": [
    "## Unflatten Array (for convolutional neural network)\n",
    "Convert 1D array to 2D array"
   ]
  },
  {
   "cell_type": "code",
   "execution_count": 5,
   "metadata": {},
   "outputs": [],
   "source": [
    "X = X.reshape(-1, 28, 28, 1)"
   ]
  },
  {
   "cell_type": "markdown",
   "metadata": {},
   "source": [
    "## OneHotEncoding"
   ]
  },
  {
   "cell_type": "code",
   "execution_count": 6,
   "metadata": {},
   "outputs": [],
   "source": [
    "y = utils.to_categorical(y, len(doodle_map))"
   ]
  },
  {
   "cell_type": "markdown",
   "metadata": {},
   "source": [
    "## Train Test Split"
   ]
  },
  {
   "cell_type": "code",
   "execution_count": 7,
   "metadata": {},
   "outputs": [],
   "source": [
    "X_train, X_test, y_train, y_test = train_test_split(X, y, test_size=0.2, shuffle=True, random_state=0)"
   ]
  },
  {
   "cell_type": "markdown",
   "metadata": {},
   "source": [
    "### Create Neural Network"
   ]
  },
  {
   "cell_type": "code",
   "execution_count": 8,
   "metadata": {},
   "outputs": [
    {
     "name": "stdout",
     "output_type": "stream",
     "text": [
      "WARNING:tensorflow:From C:\\Users\\yanhw\\Miniconda3\\envs\\tf-gpu-3.7\\lib\\site-packages\\tensorflow\\python\\ops\\resource_variable_ops.py:435: colocate_with (from tensorflow.python.framework.ops) is deprecated and will be removed in a future version.\n",
      "Instructions for updating:\n",
      "Colocations handled automatically by placer.\n"
     ]
    }
   ],
   "source": [
    "# Create a sequential model\n",
    "model = models.Sequential()\n",
    "\n",
    "# Add Input Layer\n",
    "model.add(layers.Conv2D(32, kernel_size=5, activation=\"relu\", input_shape=(28, 28, 1)))\n",
    "model.add(layers.MaxPooling2D(pool_size=2, strides=2))\n",
    "\n",
    "# Add Hidden Layers\n",
    "model.add(layers.Conv2D(64, kernel_size=5, activation=\"relu\"))\n",
    "model.add(layers.MaxPooling2D(pool_size=2, strides=2))\n",
    "\n",
    "model.add(layers.Flatten())\n",
    "model.add(layers.Dense(1000, activation=\"relu\"))\n",
    "model.add(layers.Dense(1000, activation=\"relu\"))\n",
    "\n",
    "# Add Output Layer\n",
    "model.add(layers.Dense(len(doodle_map), activation=\"softmax\"))\n",
    "\n",
    "# Compile\n",
    "model.compile(\n",
    "    optimizer=\"adam\",\n",
    "    loss=\"categorical_crossentropy\",\n",
    "    metrics=[\"accuracy\"]\n",
    ")"
   ]
  },
  {
   "cell_type": "code",
   "execution_count": 9,
   "metadata": {},
   "outputs": [
    {
     "name": "stdout",
     "output_type": "stream",
     "text": [
      "Train on 2000000 samples, validate on 500000 samples\n",
      "WARNING:tensorflow:From C:\\Users\\yanhw\\Miniconda3\\envs\\tf-gpu-3.7\\lib\\site-packages\\tensorflow\\python\\ops\\math_ops.py:3066: to_int32 (from tensorflow.python.ops.math_ops) is deprecated and will be removed in a future version.\n",
      "Instructions for updating:\n",
      "Use tf.cast instead.\n",
      "Epoch 1/5\n",
      "2000000/2000000 [==============================] - 370s 185us/sample - loss: 1.5143 - acc: 0.6214 - val_loss: 1.1161 - val_acc: 0.7141\n",
      "Epoch 2/5\n",
      "2000000/2000000 [==============================] - 273s 137us/sample - loss: 1.0085 - acc: 0.7406 - val_loss: 0.9614 - val_acc: 0.7520\n",
      "Epoch 3/5\n",
      "2000000/2000000 [==============================] - 272s 136us/sample - loss: 0.8934 - acc: 0.7682 - val_loss: 0.8975 - val_acc: 0.7680\n",
      "Epoch 4/5\n",
      "2000000/2000000 [==============================] - 272s 136us/sample - loss: 0.8240 - acc: 0.7847 - val_loss: 0.8581 - val_acc: 0.7774\n",
      "Epoch 5/5\n",
      "2000000/2000000 [==============================] - 272s 136us/sample - loss: 0.7764 - acc: 0.7962 - val_loss: 0.8300 - val_acc: 0.7852\n"
     ]
    }
   ],
   "source": [
    "history = model.fit(X_train, y_train, validation_data=(X_test, y_test), epochs=5, batch_size=2500)"
   ]
  },
  {
   "cell_type": "code",
   "execution_count": 10,
   "metadata": {},
   "outputs": [
    {
     "data": {
      "image/png": "[encoded data removed]",
      "text/plain": [
       "<Figure size 432x288 with 1 Axes>"
      ]
     },
     "metadata": {
      "needs_background": "light"
     },
     "output_type": "display_data"
    }
   ],
   "source": [
    "plt.plot(history.history['loss'], label='Train')\n",
    "plt.plot(history.history['val_loss'], label='Test')\n",
    "plt.title('Learning Curve')\n",
    "plt.legend()\n",
    "plt.show()"
   ]
  },
  {
   "cell_type": "code",
   "execution_count": 11,
   "metadata": {},
   "outputs": [
    {
     "data": {
      "image/png": "[encoded data removed]",
      "text/plain": [
       "<Figure size 432x288 with 1 Axes>"
      ]
     },
     "metadata": {
      "needs_background": "light"
     },
     "output_type": "display_data"
    }
   ],
   "source": [
    "plt.plot(history.history['acc'], label='Train')\n",
    "plt.plot(history.history['val_acc'], label='Test')\n",
    "plt.title('Accuracy')\n",
    "plt.legend()\n",
    "plt.show()"
   ]
  },
  {
   "cell_type": "raw",
   "metadata": {},
   "source": [
    "32 conv 64 conv 1000 dense 0.7785\n",
    "\n",
    "64 conv 32 conv 1000 dense 0.7748\n",
    "\n",
    "64 conv 32 conv 500 dense 0.7632\n",
    "\n",
    "32 conv 64 conv 1000 dense 1000 dense 0.7900\n",
    "\n",
    "32 conv 64 conv 2000 dense 0.7867\n",
    "\n",
    "32 conv 64 conv 1000 dense 500 dense 250 dense 0.7786\n",
    "\n",
    "32 conv 64 conv 750 dense 750 dense 0.7870"
   ]
  },
  {
   "cell_type": "raw",
   "metadata": {},
   "source": [
    "32c 64c 1000d 1000d 0.7715 0.7792\n",
    "64c 32c 1000d 1000d 0.7702\n",
    "32c 64c 1000d       0.7623"
   ]
  },
  {
   "cell_type": "code",
   "execution_count": 12,
   "metadata": {},
   "outputs": [],
   "source": [
    "model.save('my_model.h5')"
   ]
  }
 ],
 "metadata": {
  "kernelspec": {
   "display_name": "tf-gpu-3.7",
   "language": "python",
   "name": "tf-gpu-3.7"
  },
  "language_info": {
   "codemirror_mode": {
    "name": "ipython",
    "version": 3
   },
   "file_extension": ".py",
   "mimetype": "text/x-python",
   "name": "python",
   "nbconvert_exporter": "python",
   "pygments_lexer": "ipython3",
   "version": "3.7.3"
  }
 },
 "nbformat": 4,
 "nbformat_minor": 2
}
