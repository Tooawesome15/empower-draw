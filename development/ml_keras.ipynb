{
 "cells": [
  {
   "cell_type": "markdown",
   "metadata": {},
   "source": [
    "## Imports"
   ]
  },
  {
   "cell_type": "code",
   "execution_count": 1,
   "metadata": {},
   "outputs": [],
   "source": [
    "import data\n",
    "\n",
    "import numpy as np\n",
    "\n",
    "from tensorflow.keras import models\n",
    "from tensorflow.keras import layers\n",
    "from tensorflow.keras import utils\n",
    "\n",
    "from sklearn.model_selection import train_test_split\n",
    "from sklearn.preprocessing import StandardScaler\n",
    "\n",
    "import matplotlib.pyplot as plt"
   ]
  },
  {
   "cell_type": "code",
   "execution_count": 2,
   "metadata": {},
   "outputs": [],
   "source": [
    "doodle_map, X, y = data.auto_load(size=500, categories=[\n",
    "    'mushroom', 'table', 'knee', 'bench', 'boomerang', 'diving board', 'calendar', 'dog', 'onion', 'monkey', 'tooth', 'belt', 'garden', 'The Mona Lisa', 'van', 'giraffe', 'door', 'popsicle', 'bed', 'book', 'pants', 'tennis racquet', 'shovel', 'bracelet', 'waterslide', 'lighter', 'nail', 'police car', 'pear', 'peanut', 'potato', 'The Great Wall of China', 'stove', 'squiggle', 'lipstick', 'aircraft carrier', 'teddy-bear', 'calculator', 'hospital', 'moustache', 'computer', 'drill', 'house', 'apple', 'hamburger', 'purse', 'rabbit', 'speedboat', 'cow', 'crocodile'\n",
    "])"
   ]
  },
  {
   "cell_type": "code",
   "execution_count": 3,
   "metadata": {},
   "outputs": [
    {
     "data": {
      "text/plain": [
       "['aircraft carrier',\n",
       " 'apple',\n",
       " 'bed',\n",
       " 'belt',\n",
       " 'bench',\n",
       " 'book',\n",
       " 'boomerang',\n",
       " 'bracelet',\n",
       " 'calculator',\n",
       " 'calendar',\n",
       " 'computer',\n",
       " 'cow',\n",
       " 'crocodile',\n",
       " 'diving board',\n",
       " 'dog',\n",
       " 'door',\n",
       " 'drill',\n",
       " 'garden',\n",
       " 'giraffe',\n",
       " 'hamburger',\n",
       " 'hospital',\n",
       " 'house',\n",
       " 'knee',\n",
       " 'lighter',\n",
       " 'lipstick',\n",
       " 'monkey',\n",
       " 'moustache',\n",
       " 'mushroom',\n",
       " 'nail',\n",
       " 'onion',\n",
       " 'pants',\n",
       " 'peanut',\n",
       " 'pear',\n",
       " 'police car',\n",
       " 'popsicle',\n",
       " 'potato',\n",
       " 'purse',\n",
       " 'rabbit',\n",
       " 'shovel',\n",
       " 'speedboat',\n",
       " 'squiggle',\n",
       " 'stove',\n",
       " 'table',\n",
       " 'teddy-bear',\n",
       " 'tennis racquet',\n",
       " 'The Great Wall of China',\n",
       " 'The Mona Lisa',\n",
       " 'tooth',\n",
       " 'van',\n",
       " 'waterslide']"
      ]
     },
     "execution_count": 3,
     "metadata": {},
     "output_type": "execute_result"
    }
   ],
   "source": [
    "doodle_map"
   ]
  },
  {
   "cell_type": "markdown",
   "metadata": {},
   "source": [
    "## Feature Scaling"
   ]
  },
  {
   "cell_type": "code",
   "execution_count": 4,
   "metadata": {},
   "outputs": [],
   "source": [
    "scaler = StandardScaler()\n",
    "#X = scaler.fit_transform(X)"
   ]
  },
  {
   "cell_type": "markdown",
   "metadata": {},
   "source": [
    "## Unflatten Array (for convolutional neural network)"
   ]
  },
  {
   "cell_type": "code",
   "execution_count": 5,
   "metadata": {},
   "outputs": [],
   "source": [
    "X = X.reshape(-1, 28, 28, 1)"
   ]
  },
  {
   "cell_type": "markdown",
   "metadata": {},
   "source": [
    "## OneHotEncoding"
   ]
  },
  {
   "cell_type": "code",
   "execution_count": 6,
   "metadata": {},
   "outputs": [],
   "source": [
    "y = utils.to_categorical(y, len(doodle_map))"
   ]
  },
  {
   "cell_type": "markdown",
   "metadata": {},
   "source": [
    "## Train Test Split"
   ]
  },
  {
   "cell_type": "code",
   "execution_count": 7,
   "metadata": {},
   "outputs": [],
   "source": [
    "X_train, X_test, y_train, y_test = train_test_split(X, y, test_size=0.2, shuffle=True, random_state=0)"
   ]
  },
  {
   "cell_type": "markdown",
   "metadata": {},
   "source": [
    "### Create Neural Network"
   ]
  },
  {
   "cell_type": "code",
   "execution_count": 8,
   "metadata": {},
   "outputs": [
    {
     "name": "stdout",
     "output_type": "stream",
     "text": [
      "WARNING:tensorflow:From C:\\Users\\yanhw\\Miniconda3\\envs\\tf-gpu-3.7\\lib\\site-packages\\tensorflow\\python\\ops\\resource_variable_ops.py:435: colocate_with (from tensorflow.python.framework.ops) is deprecated and will be removed in a future version.\n",
      "Instructions for updating:\n",
      "Colocations handled automatically by placer.\n"
     ]
    }
   ],
   "source": [
    "# Create a sequential model\n",
    "model = models.Sequential()\n",
    "\n",
    "# Add Input Layer\n",
    "model.add(layers.Conv2D(32, kernel_size=5, activation=\"relu\", input_shape=(28, 28, 1)))\n",
    "model.add(layers.MaxPooling2D(pool_size=2, strides=2))\n",
    "\n",
    "# Add Hidden Layers\n",
    "model.add(layers.Conv2D(64, kernel_size=5, activation=\"relu\"))\n",
    "model.add(layers.MaxPooling2D(pool_size=2, strides=2))\n",
    "\n",
    "model.add(layers.Flatten())\n",
    "model.add(layers.Dense(1000, activation=\"relu\"))\n",
    "model.add(layers.Dense(1000, activation=\"relu\"))\n",
    "\n",
    "# Add Output Layer\n",
    "model.add(layers.Dense(len(doodle_map), activation=\"softmax\"))\n",
    "\n",
    "# Compile\n",
    "model.compile(\n",
    "    optimizer=\"adam\",\n",
    "    loss=\"categorical_crossentropy\",\n",
    "    metrics=[\"accuracy\"]\n",
    ")"
   ]
  },
  {
   "cell_type": "code",
   "execution_count": 9,
   "metadata": {},
   "outputs": [
    {
     "name": "stdout",
     "output_type": "stream",
     "text": [
      "Train on 20000 samples, validate on 5000 samples\n",
      "WARNING:tensorflow:From C:\\Users\\yanhw\\Miniconda3\\envs\\tf-gpu-3.7\\lib\\site-packages\\tensorflow\\python\\ops\\math_ops.py:3066: to_int32 (from tensorflow.python.ops.math_ops) is deprecated and will be removed in a future version.\n",
      "Instructions for updating:\n",
      "Use tf.cast instead.\n",
      "Epoch 1/5\n",
      "20000/20000 [==============================] - 9s 444us/sample - loss: 3.5611 - acc: 0.1292 - val_loss: 3.0421 - val_acc: 0.2252\n",
      "Epoch 2/5\n",
      "20000/20000 [==============================] - 3s 134us/sample - loss: 2.8643 - acc: 0.2587 - val_loss: 2.6223 - val_acc: 0.3272\n",
      "Epoch 3/5\n",
      "20000/20000 [==============================] - 3s 135us/sample - loss: 2.4261 - acc: 0.3603 - val_loss: 2.2415 - val_acc: 0.4180\n",
      "Epoch 4/5\n",
      "20000/20000 [==============================] - 3s 134us/sample - loss: 2.1318 - acc: 0.4349 - val_loss: 2.0653 - val_acc: 0.4550\n",
      "Epoch 5/5\n",
      "20000/20000 [==============================] - 3s 133us/sample - loss: 1.9252 - acc: 0.4877 - val_loss: 1.9147 - val_acc: 0.4904\n"
     ]
    }
   ],
   "source": [
    "history = model.fit(X_train, y_train, validation_data=(X_test, y_test), epochs=5, batch_size=2500)"
   ]
  },
  {
   "cell_type": "code",
   "execution_count": 10,
   "metadata": {},
   "outputs": [
    {
     "data": {
      "image/png": "[encoded data removed]",
      "text/plain": [
       "<Figure size 432x288 with 1 Axes>"
      ]
     },
     "metadata": {
      "needs_background": "light"
     },
     "output_type": "display_data"
    }
   ],
   "source": [
    "plt.plot(history.history['loss'], label='Train')\n",
    "plt.plot(history.history['val_loss'], label='Test')\n",
    "plt.title('Learning Curve')\n",
    "plt.legend()\n",
    "plt.show()"
   ]
  },
  {
   "cell_type": "code",
   "execution_count": 11,
   "metadata": {},
   "outputs": [
    {
     "data": {
      "image/png": "[encoded data removed]",
      "text/plain": [
       "<Figure size 432x288 with 1 Axes>"
      ]
     },
     "metadata": {
      "needs_background": "light"
     },
     "output_type": "display_data"
    }
   ],
   "source": [
    "plt.plot(history.history['acc'], label='Train')\n",
    "plt.plot(history.history['val_acc'], label='Test')\n",
    "plt.title('Accuracy')\n",
    "plt.legend()\n",
    "plt.show()"
   ]
  },
  {
   "cell_type": "markdown",
   "metadata": {},
   "source": [
    "32 conv 64 conv 1000 dense 0.7785\n",
    "\n",
    "64 conv 32 conv 1000 dense 0.7748\n",
    "\n",
    "64 conv 32 conv 500 dense 0.7632\n",
    "\n",
    "32 conv 64 conv 1000 dense 1000 dense 0.7900\n",
    "\n",
    "32 conv 64 conv 2000 dense 0.7867\n",
    "\n",
    "32 conv 64 conv 1000 dense 500 dense 250 dense 0.7786\n",
    "\n",
    "32 conv 64 conv 750 dense 750 dense 0.7870"
   ]
  },
  {
   "cell_type": "raw",
   "metadata": {},
   "source": [
    "32c 64c 1000d 1000d 0.7715 0.7792\n",
    "64c 32c 1000d 1000d 0.7702\n",
    "32c 64c 1000d       0.7623"
   ]
  },
  {
   "cell_type": "code",
   "execution_count": 12,
   "metadata": {},
   "outputs": [],
   "source": [
    "model.save('my_model.h5')"
   ]
  }
 ],
 "metadata": {
  "kernelspec": {
   "display_name": "tf-gpu-3.7",
   "language": "python",
   "name": "tf-gpu-3.7"
  },
  "language_info": {
   "codemirror_mode": {
    "name": "ipython",
    "version": 3
   },
   "file_extension": ".py",
   "mimetype": "text/x-python",
   "name": "python",
   "nbconvert_exporter": "python",
   "pygments_lexer": "ipython3",
   "version": "3.7.3"
  }
 },
 "nbformat": 4,
 "nbformat_minor": 2
}
