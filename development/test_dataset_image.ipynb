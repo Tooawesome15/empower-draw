{
 "cells": [
  {
   "cell_type": "code",
   "execution_count": 41,
   "metadata": {},
   "outputs": [],
   "source": [
    "import data\n",
    "\n",
    "import numpy as np\n",
    "\n",
    "import matplotlib.pyplot as plt"
   ]
  },
  {
   "cell_type": "code",
   "execution_count": 42,
   "metadata": {},
   "outputs": [],
   "source": [
    "doodle_map, X, y = data.extract(size=1, n_files=1, binary=True)"
   ]
  },
  {
   "cell_type": "code",
   "execution_count": 43,
   "metadata": {},
   "outputs": [
    {
     "data": {
      "text/plain": [
       "['The Great Wall of China']"
      ]
     },
     "execution_count": 43,
     "metadata": {},
     "output_type": "execute_result"
    }
   ],
   "source": [
    "doodle_map"
   ]
  },
  {
   "cell_type": "code",
   "execution_count": 44,
   "metadata": {},
   "outputs": [],
   "source": [
    "X = X.reshape(-1, 28, 28)"
   ]
  },
  {
   "cell_type": "code",
   "execution_count": 45,
   "metadata": {},
   "outputs": [
    {
     "data": {
      "text/plain": [
       "(28, 28)"
      ]
     },
     "execution_count": 45,
     "metadata": {},
     "output_type": "execute_result"
    }
   ],
   "source": [
    "X[0].shape"
   ]
  },
  {
   "cell_type": "code",
   "execution_count": 46,
   "metadata": {},
   "outputs": [
    {
     "data": {
      "text/plain": [
       "<matplotlib.image.AxesImage at 0x28aa2587400>"
      ]
     },
     "execution_count": 46,
     "metadata": {},
     "output_type": "execute_result"
    },
    {
     "data": {
      "image/png": "[encoded data removed]",
      "text/plain": [
       "<Figure size 432x288 with 1 Axes>"
      ]
     },
     "metadata": {
      "needs_background": "light"
     },
     "output_type": "display_data"
    }
   ],
   "source": [
    "plt.imshow(X[0])"
   ]
  },
  {
   "cell_type": "code",
   "execution_count": 47,
   "metadata": {},
   "outputs": [
    {
     "data": {
      "text/plain": [
       "(28, 28)"
      ]
     },
     "execution_count": 47,
     "metadata": {},
     "output_type": "execute_result"
    }
   ],
   "source": [
    "X[0].shape"
   ]
  },
  {
   "cell_type": "code",
   "execution_count": 48,
   "metadata": {},
   "outputs": [],
   "source": [
    "from tensorflow.keras.models import load_model\n",
    "import tensorflow as tf"
   ]
  },
  {
   "cell_type": "code",
   "execution_count": 49,
   "metadata": {},
   "outputs": [],
   "source": [
    "model = load_model('my_model.h5', custom_objects={\"GlorotUniform\": tf.keras.initializers.glorot_uniform})"
   ]
  },
  {
   "cell_type": "code",
   "execution_count": 50,
   "metadata": {},
   "outputs": [
    {
     "data": {
      "text/plain": [
       "array([[3.9264942e-03, 5.1825104e-04, 2.2042186e-04, 1.7095567e-04,\n",
       "        8.5231604e-04, 6.3091627e-04, 1.5287378e-04, 2.5085122e-03,\n",
       "        3.6521061e-04, 9.0397472e-05, 3.1620573e-05, 3.6641769e-04,\n",
       "        1.0931599e-04, 1.2011520e-06, 7.4090225e-05, 5.5052357e-04,\n",
       "        1.6663753e-04, 2.7836506e-05, 5.3722278e-04, 8.9616189e-04,\n",
       "        2.5759582e-04, 1.6661767e-04, 2.5084752e-03, 8.3432281e-01,\n",
       "        3.9647169e-02, 2.1217059e-04, 2.0983475e-03, 4.1492676e-04,\n",
       "        8.7759621e-02, 3.8398743e-05, 1.0889794e-05, 5.4444693e-04,\n",
       "        1.3657515e-04, 6.8304251e-04, 6.6572517e-05, 2.6518715e-04,\n",
       "        2.8073997e-04, 9.1257866e-04, 2.1690979e-04, 3.0602657e-04,\n",
       "        5.1884400e-04, 8.0592014e-05, 1.7483551e-05, 4.1004113e-04,\n",
       "        3.0378322e-04, 2.5331378e-03, 1.1309150e-04, 8.9170871e-06,\n",
       "        1.5657283e-03, 1.1401905e-02]], dtype=float32)"
      ]
     },
     "execution_count": 50,
     "metadata": {},
     "output_type": "execute_result"
    }
   ],
   "source": [
    "model.predict(X[0].reshape(1, 28, 28, 1))"
   ]
  },
  {
   "cell_type": "code",
   "execution_count": null,
   "metadata": {},
   "outputs": [],
   "source": []
  }
 ],
 "metadata": {
  "kernelspec": {
   "display_name": "ml",
   "language": "python",
   "name": "ml"
  },
  "language_info": {
   "codemirror_mode": {
    "name": "ipython",
    "version": 3
   },
   "file_extension": ".py",
   "mimetype": "text/x-python",
   "name": "python",
   "nbconvert_exporter": "python",
   "pygments_lexer": "ipython3",
   "version": "3.7.3"
  }
 },
 "nbformat": 4,
 "nbformat_minor": 2
}
